{
 "cells": [
  {
   "cell_type": "code",
   "execution_count": null,
   "metadata": {},
   "outputs": [],
   "source": [
    "%pip install requests"
   ]
  },
  {
   "cell_type": "code",
   "execution_count": 3,
   "metadata": {},
   "outputs": [],
   "source": [
    "import requests"
   ]
  },
  {
   "cell_type": "code",
   "execution_count": 50,
   "metadata": {},
   "outputs": [],
   "source": [
    "# API сервера\n",
    "url = 'http://158.160.2.88:7777/api/'\n",
    "api_auth = url + 'auth/login'\n",
    "api_files_upload = url + 'files/upload'"
   ]
  },
  {
   "cell_type": "markdown",
   "metadata": {},
   "source": [
    "**1. Сначала надо получить JWT токен. Для этого необходимо авторизоваться**"
   ]
  },
  {
   "cell_type": "code",
   "execution_count": null,
   "metadata": {},
   "outputs": [],
   "source": [
    "headers = {'content-type': 'application/json'}\n",
    "data = {'username': 'user01', 'password': 'password'}\n",
    "\n",
    "res = requests.post(api_auth, headers=headers, json=data)\n",
    "res.text"
   ]
  },
  {
   "cell_type": "code",
   "execution_count": null,
   "metadata": {},
   "outputs": [],
   "source": [
    "# Сохраняем полученый токен. Теперь его используем для дальнейшей авторизации\n",
    "token = res.json()['token']\n",
    "token"
   ]
  },
  {
   "cell_type": "markdown",
   "metadata": {},
   "source": [
    "**2. Сохранение картинок на сервер**"
   ]
  },
  {
   "cell_type": "markdown",
   "metadata": {},
   "source": [
    "- Имена файлам давать в формате Дата_Время (2023-07-23_16-45-31.png), чтобы потом было проще ориентировать в базе"
   ]
  },
  {
   "cell_type": "code",
   "execution_count": 107,
   "metadata": {},
   "outputs": [],
   "source": [
    "from datetime import datetime"
   ]
  },
  {
   "cell_type": "code",
   "execution_count": null,
   "metadata": {},
   "outputs": [],
   "source": [
    "headers = {'Authorization': 'Bearer {}'.format(token)}\n",
    "file = {'file': open('2023-07-23_16-45-31.png','rb')}\n",
    "data = {'camId': 'cam1', 'dateTime': datetime.now().strftime(\"%Y-%m-%d %H:%M:%S\")}\n",
    "\n",
    "res = requests.post(api_files_upload, headers=headers, files=file, data=data)\n",
    "res.text"
   ]
  },
  {
   "cell_type": "code",
   "execution_count": null,
   "metadata": {},
   "outputs": [],
   "source": []
  },
  {
   "cell_type": "code",
   "execution_count": null,
   "metadata": {},
   "outputs": [],
   "source": []
  },
  {
   "cell_type": "code",
   "execution_count": null,
   "metadata": {},
   "outputs": [],
   "source": []
  }
 ],
 "metadata": {
  "kernelspec": {
   "display_name": "Python 3.10.10 ('venv': venv)",
   "language": "python",
   "name": "python3"
  },
  "language_info": {
   "codemirror_mode": {
    "name": "ipython",
    "version": 3
   },
   "file_extension": ".py",
   "mimetype": "text/x-python",
   "name": "python",
   "nbconvert_exporter": "python",
   "pygments_lexer": "ipython3",
   "version": "3.10.10"
  },
  "orig_nbformat": 4,
  "vscode": {
   "interpreter": {
    "hash": "a364b96a5995fc9035ccc8493afa03956d362c11e279bab0d3b0cac78ab3f084"
   }
  }
 },
 "nbformat": 4,
 "nbformat_minor": 2
}
